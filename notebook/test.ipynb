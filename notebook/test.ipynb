{
 "cells": [
  {
   "cell_type": "code",
   "execution_count": 9,
   "metadata": {},
   "outputs": [],
   "source": [
    "import json\n",
    "import yaml\n",
    "import psycopg2\n",
    "import requests\n",
    "import os"
   ]
  },
  {
   "cell_type": "code",
   "execution_count": 5,
   "metadata": {},
   "outputs": [],
   "source": [
    "def make_db_connection_psycopg2(database: str, autocommit: bool = False):\n",
    "\n",
    "    #assert database in list(conn_dict.keys()), \"server couldn't be recognized in the config file\"\n",
    "\n",
    "    \n",
    "    database=\"blog\"\n",
    "    host=\"localhost\"\n",
    "    port=\"5432\"\n",
    "    user=\"postgres\"\n",
    "    password=\"matin9862\"\n",
    "    \n",
    "    conn = psycopg2.connect(user=user, password=password, host=host, dbname=database)\n",
    "    cursor = conn.cursor()\n",
    "\n",
    "    if autocommit:\n",
    "        conn.autocommit = True\n",
    "\n",
    "    return conn, cursor\n"
   ]
  },
  {
   "cell_type": "code",
   "execution_count": 6,
   "metadata": {},
   "outputs": [],
   "source": [
    "conn, curs = make_db_connection_psycopg2(database=\"blog\")"
   ]
  },
  {
   "cell_type": "code",
   "execution_count": 7,
   "metadata": {},
   "outputs": [
    {
     "data": {
      "text/plain": [
       "<connection object at 0x7fa41627df80; dsn: 'user=postgres password=xxx dbname=blog host=localhost', closed: 0>"
      ]
     },
     "execution_count": 7,
     "metadata": {},
     "output_type": "execute_result"
    }
   ],
   "source": [
    "conn"
   ]
  },
  {
   "cell_type": "code",
   "execution_count": 8,
   "metadata": {},
   "outputs": [
    {
     "name": "stdout",
     "output_type": "stream",
     "text": [
      "(1, 'rings', 'rings of lords', 'c.zhzkhdh.vx.dkbvxvxv', datetime.datetime(2024, 1, 11, 19, 1, 3, 266020, tzinfo=datetime.timezone.utc), datetime.time(19, 1), 1)\n"
     ]
    }
   ],
   "source": [
    "conn, cursor = make_db_connection_psycopg2(\"blog\")\n",
    "# query = \"\"\"\n",
    "# SELECT * FROM information_schema.tables WHERE table_schema = 'public';\n",
    "# \"\n",
    "\n",
    "query = \"\"\"\n",
    "SELECT * FROM home_blog;\n",
    "\n",
    "\"\"\"\n",
    "\n",
    "cursor.execute(query)\n",
    "rows = cursor.fetchall()\n",
    "\n",
    "for i in rows:\n",
    "    print(i)"
   ]
  },
  {
   "cell_type": "markdown",
   "metadata": {},
   "source": [
    "# **Ollama**"
   ]
  },
  {
   "cell_type": "code",
   "execution_count": 12,
   "metadata": {},
   "outputs": [],
   "source": [
    "def call_llama(model, prompt, stream=False):\n",
    "    url = \"http://localhost:11434/api/generate\"\n",
    "    data = {\n",
    "        \"model\": model,\n",
    "        \"prompt\":prompt,\n",
    "        \"stream\":stream\n",
    "    }\n",
    "    \n",
    "    json_data = json.dumps(data)\n",
    "    response = requests.post(url, data=json_data, headers={\"Content-Type\":\"application/json\"})\n",
    "    if response.status_code == 200:\n",
    "        return response.json()\n",
    "    else:\n",
    "        return f\"Error: Status code is: {response.status_code}\""
   ]
  },
  {
   "cell_type": "code",
   "execution_count": 11,
   "metadata": {},
   "outputs": [
    {
     "data": {
      "text/plain": [
       "\"Hello! It's nice to meet you. How are you today?\""
      ]
     },
     "execution_count": 11,
     "metadata": {},
     "output_type": "execute_result"
    }
   ],
   "source": [
    "call_llama('llama2', \"hi\")['response']"
   ]
  },
  {
   "cell_type": "code",
   "execution_count": 13,
   "metadata": {},
   "outputs": [
    {
     "data": {
      "text/plain": [
       "'\\n Of course! Here are five potential topics related to machine learning that you may find interesting:\\n\\n1. Natural Language Processing (NLP): This is a subfield of machine learning that focuses on developing algorithms and models that can process, analyze, and generate human-like language. Some potential topics in this area include text classification, sentiment analysis, machine translation, and chatbots.\\n2. Computer Vision: Machine learning algorithms are increasingly being used to analyze and understand visual data from images and videos. Topics in this area could include object detection, image segmentation, facial recognition, and image generation.\\n3. Reinforcement Learning: This is a type of machine learning that involves training agents to make decisions based on rewards or penalties. Potential topics in this area include deep reinforcement learning, multi-agent reinforcement learning, and applications of reinforcement learning in robotics and autonomous vehicles.\\n4. Time Series Analysis: Machine learning algorithms can be used to analyze and forecast time series data, which is data that is ordered in time. Some potential topics in this area include stock market prediction, weather forecasting, and predictive maintenance.\\n5. Explainable AI (XAI): With the increasing use of machine learning models in high-stakes applications, there is a growing need to understand how these models make decisions. XAI is an emerging field that focuses on developing techniques for explaining and interpreting the decisions made by machine learning models. Some potential topics in this area include model interpretability, feature attribution, and visualization of machine learning models.\\n\\nI hope these topics give you some ideas for your research! Let me know if you have any questions or need further clarification on any of them.'"
      ]
     },
     "execution_count": 13,
     "metadata": {},
     "output_type": "execute_result"
    }
   ],
   "source": [
    "text_idea_ai = call_llama('llama2', \"Please suggest 2 topics in the field of machine learning for me.\")['response']"
   ]
  },
  {
   "cell_type": "code",
   "execution_count": null,
   "metadata": {},
   "outputs": [],
   "source": [
    "title\n",
    "abstract\n",
    "content\n",
    "date_posted\n",
    "author\n",
    "reading_time"
   ]
  },
  {
   "cell_type": "code",
   "execution_count": null,
   "metadata": {},
   "outputs": [],
   "source": []
  },
  {
   "cell_type": "code",
   "execution_count": null,
   "metadata": {},
   "outputs": [],
   "source": []
  },
  {
   "cell_type": "code",
   "execution_count": null,
   "metadata": {},
   "outputs": [],
   "source": []
  },
  {
   "cell_type": "code",
   "execution_count": null,
   "metadata": {},
   "outputs": [],
   "source": []
  }
 ],
 "metadata": {
  "kernelspec": {
   "display_name": "Python 3 (ipykernel)",
   "language": "python",
   "name": "python3"
  },
  "language_info": {
   "codemirror_mode": {
    "name": "ipython",
    "version": 3
   },
   "file_extension": ".py",
   "mimetype": "text/x-python",
   "name": "python",
   "nbconvert_exporter": "python",
   "pygments_lexer": "ipython3",
   "version": "3.10.13"
  }
 },
 "nbformat": 4,
 "nbformat_minor": 4
}
