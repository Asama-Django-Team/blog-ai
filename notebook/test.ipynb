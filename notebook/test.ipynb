{
 "cells": [
  {
   "cell_type": "code",
   "execution_count": 1,
   "metadata": {},
   "outputs": [],
   "source": [
    "import json\n",
    "import yaml\n",
    "import psycopg2\n",
    "import requests\n",
    "import os"
   ]
  },
  {
   "cell_type": "markdown",
   "metadata": {},
   "source": [
    "# **Connect to Database**"
   ]
  },
  {
   "cell_type": "code",
   "execution_count": 2,
   "metadata": {},
   "outputs": [],
   "source": [
    "def make_db_connection_psycopg2(database: str, autocommit: bool = False):\n",
    "\n",
    "    #assert database in list(conn_dict.keys()), \"server couldn't be recognized in the config file\"\n",
    "\n",
    "    \n",
    "    database=\"blog\"\n",
    "    host=\"localhost\"\n",
    "    port=\"5432\"\n",
    "    user=\"postgres\"\n",
    "    password=\"matin9862\"\n",
    "    \n",
    "    conn = psycopg2.connect(user=user, password=password, host=host, dbname=database)\n",
    "    cursor = conn.cursor()\n",
    "\n",
    "    if autocommit:\n",
    "        conn.autocommit = True\n",
    "\n",
    "    return conn, cursor\n"
   ]
  },
  {
   "cell_type": "code",
   "execution_count": 4,
   "metadata": {},
   "outputs": [],
   "source": [
    "conn, curs = make_db_connection_psycopg2(database=\"blog\")"
   ]
  },
  {
   "cell_type": "code",
   "execution_count": 5,
   "metadata": {},
   "outputs": [
    {
     "data": {
      "text/plain": [
       "<connection object at 0x7f5580ae8400; dsn: 'user=postgres password=xxx dbname=blog host=localhost', closed: 0>"
      ]
     },
     "execution_count": 5,
     "metadata": {},
     "output_type": "execute_result"
    }
   ],
   "source": [
    "conn"
   ]
  },
  {
   "cell_type": "code",
   "execution_count": 6,
   "metadata": {},
   "outputs": [
    {
     "name": "stdout",
     "output_type": "stream",
     "text": [
      "(1, 'rings', 'rings of lords', 'c.zhzkhdh.vx.dkbvxvxv', datetime.datetime(2024, 1, 11, 19, 1, 3, 266020, tzinfo=datetime.timezone.utc), datetime.time(19, 1), 1)\n"
     ]
    }
   ],
   "source": [
    "conn, cursor = make_db_connection_psycopg2(\"blog\")\n",
    "# query = \"\"\"\n",
    "# SELECT * FROM information_schema.tables WHERE table_schema = 'public';\n",
    "# \"\n",
    "\n",
    "query = \"\"\"\n",
    "SELECT * FROM home_blog;\n",
    "\n",
    "\"\"\"\n",
    "\n",
    "cursor.execute(query)\n",
    "rows = cursor.fetchall()\n",
    "\n",
    "for i in rows:\n",
    "    print(i)"
   ]
  },
  {
   "cell_type": "markdown",
   "metadata": {},
   "source": [
    "# **Ollama**"
   ]
  },
  {
   "cell_type": "code",
   "execution_count": 7,
   "metadata": {},
   "outputs": [],
   "source": [
    "def call_llama(model, prompt, stream=False):\n",
    "    url = \"http://localhost:11434/api/generate\"\n",
    "    data = {\n",
    "        \"model\": model,\n",
    "        \"prompt\":prompt,\n",
    "        \"stream\":stream\n",
    "    }\n",
    "    \n",
    "    json_data = json.dumps(data)\n",
    "    response = requests.post(url, data=json_data, headers={\"Content-Type\":\"application/json\"})\n",
    "    if response.status_code == 200:\n",
    "        return response.json()\n",
    "    else:\n",
    "        return f\"Error: Status code is: {response.status_code}\""
   ]
  },
  {
   "cell_type": "code",
   "execution_count": 9,
   "metadata": {},
   "outputs": [
    {
     "data": {
      "text/plain": [
       "\"Hi there! It's nice to meet you. How are you today?\""
      ]
     },
     "execution_count": 9,
     "metadata": {},
     "output_type": "execute_result"
    }
   ],
   "source": [
    "call_llama('llama2', \"hi\")['response']"
   ]
  },
  {
   "cell_type": "markdown",
   "metadata": {},
   "source": [
    "## **Prompt**"
   ]
  },
  {
   "cell_type": "code",
   "execution_count": 41,
   "metadata": {},
   "outputs": [],
   "source": [
    "prompt = ''' \n",
    "        Please suggest 2 topics in the field of machine learning for me.\n",
    "        this suggestion must be this format (json):\n",
    "        {\"title\": YOUR SUGGESTION,\n",
    "        \"abstract\":YOUR SUGGESTION,\n",
    "        \"content\":YOUR SUGGESTION,\n",
    "        \"date_posted\":YOUR SUGGESTION,\n",
    "        \"author\":YOUR SUGGESTION,\n",
    "        \"reading_time\":YOUR SUGGESTION,\n",
    "        }\n",
    " '''"
   ]
  },
  {
   "cell_type": "markdown",
   "metadata": {},
   "source": [
    "## **Call llama**"
   ]
  },
  {
   "cell_type": "code",
   "execution_count": 42,
   "metadata": {},
   "outputs": [],
   "source": [
    "\n",
    "text_idea_ai = call_llama('llama2', prompt)['response']"
   ]
  },
  {
   "cell_type": "code",
   "execution_count": 43,
   "metadata": {},
   "outputs": [
    {
     "name": "stdout",
     "output_type": "stream",
     "text": [
      "Sure! Here are two potential topics in the field of machine learning that you might find interesting:\n",
      "\n",
      "{\n",
      "\"title\": \"Explainable AI: The Future of Machine Learning\",\n",
      "\"abstract\": \"As machine learning models become increasingly complex, it is becoming more important to understand how they make decisions. Explainable AI is a rapidly growing field that aims to provide insights into the decision-making process of AI models. In this topic, we will explore the current state of explainable AI, its applications, and the challenges it faces.\",\n",
      "\"content\": \"In recent years, there has been growing concern about the lack of transparency in machine learning models. Explainable AI is a response to this concern, providing a way to understand how AI systems make decisions. In this topic, we will discuss the current state of explainable AI, including its applications and challenges. We will also explore the latest techniques and tools being developed to support explainable AI.\",\n",
      "\"date_posted\": \"March 2023\",\n",
      "\"author\": \"John Doe\",\n",
      "\"reading_time\": \"60 minutes\"\n",
      "}\n",
      "\n",
      "{\n",
      "\"title\": \"Machine Learning for Natural Language Processing\",\n",
      "\"abstract\": \"Natural language processing (NLP) is a rapidly growing field that uses machine learning to analyze and generate human language. In this topic, we will explore the current state of NLP, including its applications and challenges. We will also discuss the latest techniques and tools being developed to support NLP, including deep learning models and attention mechanisms.\",\n",
      "\"content\": \"Natural language processing (NLP) is a rapidly growing field that uses machine learning to analyze and generate human language. In this topic, we will explore the current state of NLP, including its applications and challenges. We will also discuss the latest techniques and tools being developed to support NLP, including deep learning models and attention mechanisms.\",\n",
      "\"date_posted\": \"February 2023\",\n",
      "\"author\": \"Jane Smith\",\n",
      "\"reading_time\": \"90 minutes\"\n",
      "}\n"
     ]
    }
   ],
   "source": [
    "from pprint import pprint\n",
    "print(text_idea_ai)"
   ]
  },
  {
   "cell_type": "code",
   "execution_count": null,
   "metadata": {},
   "outputs": [],
   "source": [
    "title\n",
    "abstract\n",
    "content\n",
    "date_posted\n",
    "author\n",
    "reading_time"
   ]
  },
  {
   "cell_type": "code",
   "execution_count": 44,
   "metadata": {},
   "outputs": [
    {
     "data": {
      "text/plain": [
       "<class 'str'>"
      ]
     },
     "execution_count": 44,
     "metadata": {},
     "output_type": "execute_result"
    }
   ],
   "source": [
    "from pprint import pprint\n",
    "type(json.dumps(text_idea_ai))"
   ]
  },
  {
   "cell_type": "code",
   "execution_count": 49,
   "metadata": {},
   "outputs": [],
   "source": [
    "import re\n",
    "import ast\n",
    "# Define the regex pattern for detecting dictionaries\n",
    "pattern = r'\\{[^{}]*\\}'\n",
    "\n",
    "# Find all matches in the content\n",
    "matches = re.findall(pattern, text_idea_ai, re.DOTALL)\n",
    "\n",
    "# Print the extracted dictionaries\n",
    "list_of_blog = [ast.literal_eval(match) for match in matches]"
   ]
  },
  {
   "cell_type": "code",
   "execution_count": 52,
   "metadata": {},
   "outputs": [
    {
     "data": {
      "text/plain": [
       "{'title': 'Machine Learning for Natural Language Processing', 'abstract': 'Natural language processing (NLP) is a rapidly growing field that uses machine learning to analyze and generate human language. In this topic, we will explore the current state of NLP, including its applications and challenges. We will also discuss the latest techniques and tools being developed to support NLP, including deep learning models and attention mechanisms.', 'content': 'Natural language processing (NLP) is a rapidly growing field that uses machine learning to analyze and generate human language. In this topic, we will explore the current state of NLP, including its applications and challenges. We will also discuss the latest techniques and tools being developed to support NLP, including deep learning models and attention mechanisms.', 'date_posted': 'February 2023', 'author': 'Jane Smith', 'reading_time': '90 minutes'}"
      ]
     },
     "execution_count": 52,
     "metadata": {},
     "output_type": "execute_result"
    }
   ],
   "source": [
    "list_of_blog[1]"
   ]
  },
  {
   "cell_type": "code",
   "execution_count": 53,
   "metadata": {},
   "outputs": [],
   "source": [
    "title = list_of_blog[1].get(\"title\")\n",
    "abstract = list_of_blog[1].get(\"abstract\")\n",
    "content = list_of_blog[1].get(\"content\")\n",
    "date_posted = list_of_blog[1].get(\"date_posted\")\n",
    "author = list_of_blog[1].get(\"author\")\n",
    "reading_time = list_of_blog[1].get(\"reading_time\")"
   ]
  },
  {
   "cell_type": "code",
   "execution_count": 55,
   "metadata": {},
   "outputs": [
    {
     "data": {
      "text/plain": [
       "'Natural language processing (NLP) is a rapidly growing field that uses machine learning to analyze and generate human language. In this topic, we will explore the current state of NLP, including its applications and challenges. We will also discuss the latest techniques and tools being developed to support NLP, including deep learning models and attention mechanisms.'"
      ]
     },
     "execution_count": 55,
     "metadata": {},
     "output_type": "execute_result"
    }
   ],
   "source": []
  },
  {
   "cell_type": "code",
   "execution_count": null,
   "metadata": {},
   "outputs": [],
   "source": []
  }
 ],
 "metadata": {
  "kernelspec": {
   "display_name": "Python 3 (ipykernel)",
   "language": "python",
   "name": "python3"
  },
  "language_info": {
   "codemirror_mode": {
    "name": "ipython",
    "version": 3
   },
   "file_extension": ".py",
   "mimetype": "text/x-python",
   "name": "python",
   "nbconvert_exporter": "python",
   "pygments_lexer": "ipython3",
   "version": "3.10.13"
  }
 },
 "nbformat": 4,
 "nbformat_minor": 4
}
