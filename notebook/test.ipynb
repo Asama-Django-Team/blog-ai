{
 "cells": [
  {
   "cell_type": "code",
   "execution_count": 2,
   "metadata": {},
   "outputs": [],
   "source": [
    "import json\n",
    "import yaml\n",
    "import psycopg2\n",
    "from sqlalchemy import create_engine\n",
    "import sqlalchemy as sq\n",
    "from sqlalchemy.ext.declarative import declarative_base\n",
    "import os\n",
    "from loguru import logger"
   ]
  },
  {
   "cell_type": "code",
   "execution_count": 3,
   "metadata": {},
   "outputs": [],
   "source": [
    "def make_db_connection_psycopg2(database: str, autocommit: bool = False):\n",
    "\n",
    "    #assert database in list(conn_dict.keys()), \"server couldn't be recognized in the config file\"\n",
    "\n",
    "    \n",
    "    database=\"blog\"\n",
    "    host=\"localhost\"\n",
    "    port=\"5432\"\n",
    "    user=\"postgres\"\n",
    "    password=\"matin9862\"\n",
    "    \n",
    "    conn = psycopg2.connect(user=user, password=password, host=host, dbname=database)\n",
    "    cursor = conn.cursor()\n",
    "\n",
    "    if autocommit:\n",
    "        conn.autocommit = True\n",
    "\n",
    "    return conn, cursor\n"
   ]
  },
  {
   "cell_type": "code",
   "execution_count": 4,
   "metadata": {},
   "outputs": [],
   "source": [
    "conn, curs = make_db_connection_psycopg2(database=\"blog\")"
   ]
  },
  {
   "cell_type": "code",
   "execution_count": 20,
   "metadata": {},
   "outputs": [
    {
     "data": {
      "text/plain": [
       "<connection object at 0x7f815c7e8680; dsn: 'user=postgres password=xxx dbname=blog host=localhost', closed: 0>"
      ]
     },
     "execution_count": 20,
     "metadata": {},
     "output_type": "execute_result"
    }
   ],
   "source": [
    "conn"
   ]
  },
  {
   "cell_type": "code",
   "execution_count": 19,
   "metadata": {},
   "outputs": [
    {
     "name": "stdout",
     "output_type": "stream",
     "text": [
      "(1, 'rings', 'rings of lords', 'c.zhzkhdh.vx.dkbvxvxv', datetime.datetime(2024, 1, 11, 19, 1, 3, 266020, tzinfo=datetime.timezone.utc), datetime.time(19, 1), 1)\n"
     ]
    }
   ],
   "source": [
    "conn, cursor = make_db_connection_psycopg2(\"blog\")\n",
    "# query = \"\"\"\n",
    "# SELECT * FROM information_schema.tables WHERE table_schema = 'public';\n",
    "# \"\n",
    "\n",
    "query = \"\"\"\n",
    "SELECT * FROM home_blog;\n",
    "\n",
    "\"\"\"\n",
    "\n",
    "cursor.execute(query)\n",
    "rows = cursor.fetchall()\n",
    "\n",
    "for i in rows:\n",
    "    print(i)"
   ]
  },
  {
   "cell_type": "code",
   "execution_count": null,
   "metadata": {},
   "outputs": [],
   "source": []
  }
 ],
 "metadata": {
  "kernelspec": {
   "display_name": "py311",
   "language": "python",
   "name": "python3"
  },
  "language_info": {
   "codemirror_mode": {
    "name": "ipython",
    "version": 3
   },
   "file_extension": ".py",
   "mimetype": "text/x-python",
   "name": "python",
   "nbconvert_exporter": "python",
   "pygments_lexer": "ipython3",
   "version": "3.11.6"
  }
 },
 "nbformat": 4,
 "nbformat_minor": 2
}
